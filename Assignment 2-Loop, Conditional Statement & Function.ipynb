{
  "nbformat": 4,
  "nbformat_minor": 0,
  "metadata": {
    "colab": {
      "name": "Topic_4_Assigment.ipynb",
      "provenance": [],
      "collapsed_sections": []
    },
    "kernelspec": {
      "name": "python3",
      "display_name": "Python 3"
    },
    "language_info": {
      "name": "python"
    }
  },
  "cells": [
    {
      "cell_type": "markdown",
      "source": [
        "##Topic 5 - Loop, Conditional Statement & Function Assignment\n"
      ],
      "metadata": {
        "id": "rhs6ovOcfpKY"
      }
    },
    {
      "cell_type": "markdown",
      "source": [
        "# Loop"
      ],
      "metadata": {
        "id": "tESOTs3YfVw4"
      }
    },
    {
      "cell_type": "markdown",
      "source": [
        "Write a \"for\" loop to iterate and print value from 100 to 200 (Points 5)"
      ],
      "metadata": {
        "id": "pdVUOOFNfy8f"
      }
    },
    {
      "cell_type": "code",
      "source": [
        "#Code Goes Here\n",
        "for i in range(100,200):\n",
        "  print(i)"
      ],
      "metadata": {
        "id": "CnzWEkDyfXrf",
        "colab": {
          "base_uri": "https://localhost:8080/"
        },
        "outputId": "1542ae6e-3d1b-4c0a-df24-069d43d1a2ca"
      },
      "execution_count": 9,
      "outputs": [
        {
          "output_type": "stream",
          "name": "stdout",
          "text": [
            "100\n",
            "101\n",
            "102\n",
            "103\n",
            "104\n",
            "105\n",
            "106\n",
            "107\n",
            "108\n",
            "109\n",
            "110\n",
            "111\n",
            "112\n",
            "113\n",
            "114\n",
            "115\n",
            "116\n",
            "117\n",
            "118\n",
            "119\n",
            "120\n",
            "121\n",
            "122\n",
            "123\n",
            "124\n",
            "125\n",
            "126\n",
            "127\n",
            "128\n",
            "129\n",
            "130\n",
            "131\n",
            "132\n",
            "133\n",
            "134\n",
            "135\n",
            "136\n",
            "137\n",
            "138\n",
            "139\n",
            "140\n",
            "141\n",
            "142\n",
            "143\n",
            "144\n",
            "145\n",
            "146\n",
            "147\n",
            "148\n",
            "149\n",
            "150\n",
            "151\n",
            "152\n",
            "153\n",
            "154\n",
            "155\n",
            "156\n",
            "157\n",
            "158\n",
            "159\n",
            "160\n",
            "161\n",
            "162\n",
            "163\n",
            "164\n",
            "165\n",
            "166\n",
            "167\n",
            "168\n",
            "169\n",
            "170\n",
            "171\n",
            "172\n",
            "173\n",
            "174\n",
            "175\n",
            "176\n",
            "177\n",
            "178\n",
            "179\n",
            "180\n",
            "181\n",
            "182\n",
            "183\n",
            "184\n",
            "185\n",
            "186\n",
            "187\n",
            "188\n",
            "189\n",
            "190\n",
            "191\n",
            "192\n",
            "193\n",
            "194\n",
            "195\n",
            "196\n",
            "197\n",
            "198\n",
            "199\n"
          ]
        }
      ]
    },
    {
      "cell_type": "markdown",
      "source": [
        "Write a for loop to iterate and print the **odd numbers** between from 0 to 100  (Points 10)"
      ],
      "metadata": {
        "id": "RaLLenGOgASP"
      }
    },
    {
      "cell_type": "code",
      "source": [
        "#Code Goes Here\n",
        "for i in range(100):\n",
        "  if(i%2==1):\n",
        "    print(i)"
      ],
      "metadata": {
        "id": "lhPeyR2dgNSf",
        "colab": {
          "base_uri": "https://localhost:8080/"
        },
        "outputId": "87623a80-b127-416b-b21c-258a55e08b10"
      },
      "execution_count": 10,
      "outputs": [
        {
          "output_type": "stream",
          "name": "stdout",
          "text": [
            "1\n",
            "3\n",
            "5\n",
            "7\n",
            "9\n",
            "11\n",
            "13\n",
            "15\n",
            "17\n",
            "19\n",
            "21\n",
            "23\n",
            "25\n",
            "27\n",
            "29\n",
            "31\n",
            "33\n",
            "35\n",
            "37\n",
            "39\n",
            "41\n",
            "43\n",
            "45\n",
            "47\n",
            "49\n",
            "51\n",
            "53\n",
            "55\n",
            "57\n",
            "59\n",
            "61\n",
            "63\n",
            "65\n",
            "67\n",
            "69\n",
            "71\n",
            "73\n",
            "75\n",
            "77\n",
            "79\n",
            "81\n",
            "83\n",
            "85\n",
            "87\n",
            "89\n",
            "91\n",
            "93\n",
            "95\n",
            "97\n",
            "99\n"
          ]
        }
      ]
    },
    {
      "cell_type": "markdown",
      "source": [
        "Write a \"While\" loop to iterate and print value from 0 to 50 (Points 5)"
      ],
      "metadata": {
        "id": "L_MyDw4qge4H"
      }
    },
    {
      "cell_type": "code",
      "source": [
        "#Code Goes Here\n",
        "i=0\n",
        "while(i<51):\n",
        "  print(i)\n",
        "  i=i+1\n",
        "  \n",
        "print(i)"
      ],
      "metadata": {
        "id": "zJAQ0DpygY1H",
        "colab": {
          "base_uri": "https://localhost:8080/"
        },
        "outputId": "583c548a-f238-4399-e9aa-44d7c320ff31"
      },
      "execution_count": 12,
      "outputs": [
        {
          "output_type": "stream",
          "name": "stdout",
          "text": [
            "0\n",
            "1\n",
            "2\n",
            "3\n",
            "4\n",
            "5\n",
            "6\n",
            "7\n",
            "8\n",
            "9\n",
            "10\n",
            "11\n",
            "12\n",
            "13\n",
            "14\n",
            "15\n",
            "16\n",
            "17\n",
            "18\n",
            "19\n",
            "20\n",
            "21\n",
            "22\n",
            "23\n",
            "24\n",
            "25\n",
            "26\n",
            "27\n",
            "28\n",
            "29\n",
            "30\n",
            "31\n",
            "32\n",
            "33\n",
            "34\n",
            "35\n",
            "36\n",
            "37\n",
            "38\n",
            "39\n",
            "40\n",
            "41\n",
            "42\n",
            "43\n",
            "44\n",
            "45\n",
            "46\n",
            "47\n",
            "48\n",
            "49\n",
            "50\n"
          ]
        }
      ]
    },
    {
      "cell_type": "markdown",
      "source": [
        "# Loop with Conditional Statement"
      ],
      "metadata": {
        "id": "wmgK-wW9jLCg"
      }
    },
    {
      "cell_type": "markdown",
      "source": [
        "Given the list below\n",
        "\n",
        "age=[10,15,30,90,100,10,20]"
      ],
      "metadata": {
        "id": "6wcDI-omjSjo"
      }
    },
    {
      "cell_type": "markdown",
      "source": [
        "Loop through the list and print all of the value (Points 5)"
      ],
      "metadata": {
        "id": "vNb9IUcPk1p4"
      }
    },
    {
      "cell_type": "code",
      "source": [
        "#Code Goes Here\n",
        "age=[10,15,30,90,100,10,20]\n",
        "for x in age:\n",
        "  print(x)"
      ],
      "metadata": {
        "id": "3A9x3fp_jO-3",
        "colab": {
          "base_uri": "https://localhost:8080/"
        },
        "outputId": "f9c07199-93a2-4dd9-c775-e0925e0e7b7a"
      },
      "execution_count": 2,
      "outputs": [
        {
          "output_type": "stream",
          "name": "stdout",
          "text": [
            "10\n",
            "15\n",
            "30\n",
            "90\n",
            "100\n",
            "10\n",
            "20\n"
          ]
        }
      ]
    },
    {
      "cell_type": "markdown",
      "source": [
        "Using loop and conditional statement, print **all the value higher than 50** (Points 10)"
      ],
      "metadata": {
        "id": "EEEpnmtGk6pX"
      }
    },
    {
      "cell_type": "code",
      "source": [
        "#Code Goes Here\n",
        "age=[10,15,30,90,100,10,20]\n",
        "for x in age:\n",
        "  if (x>50):\n",
        "    print(x)"
      ],
      "metadata": {
        "id": "5IarElM_jQ-n",
        "colab": {
          "base_uri": "https://localhost:8080/"
        },
        "outputId": "b9228e4e-0181-4dfc-b156-b5704ed5d044"
      },
      "execution_count": 6,
      "outputs": [
        {
          "output_type": "stream",
          "name": "stdout",
          "text": [
            "90\n",
            "100\n"
          ]
        }
      ]
    },
    {
      "cell_type": "markdown",
      "source": [
        "Using loop and conditional statement, replace **all the value lower than 50** into \"Low Value\" (Points 15)"
      ],
      "metadata": {
        "id": "rX2hMHHVljcZ"
      }
    },
    {
      "cell_type": "code",
      "source": [
        "#Code Goes Here\n",
        "for i in age:\n",
        "  if (i<50):\n",
        "    print('Low Value')"
      ],
      "metadata": {
        "id": "fLVR8tG_ljv6",
        "colab": {
          "base_uri": "https://localhost:8080/"
        },
        "outputId": "774fa938-0b20-41bc-95db-8c0867f25c95"
      },
      "execution_count": 36,
      "outputs": [
        {
          "output_type": "stream",
          "name": "stdout",
          "text": [
            "Low Value\n",
            "Low Value\n",
            "Low Value\n",
            "Low Value\n",
            "Low Value\n"
          ]
        }
      ]
    },
    {
      "cell_type": "markdown",
      "source": [
        "# Function"
      ],
      "metadata": {
        "id": "0GQv25KTuap6"
      }
    },
    {
      "cell_type": "markdown",
      "source": [
        "Create a function to find the area of a rectangle. (Points 15)"
      ],
      "metadata": {
        "id": "KADX7sqxwRsK"
      }
    },
    {
      "cell_type": "code",
      "source": [
        "def area_of_rectagle(p,l):\n",
        "  print(\"Area of Rectagle =\",p*l)\n",
        "\n",
        "area_of_rectagle(3,5)"
      ],
      "metadata": {
        "id": "Jc05-578wR0R",
        "colab": {
          "base_uri": "https://localhost:8080/"
        },
        "outputId": "46e614d2-81fb-421c-f870-57c7fbd13f15"
      },
      "execution_count": 17,
      "outputs": [
        {
          "output_type": "stream",
          "name": "stdout",
          "text": [
            "Area of Rectagle = 15\n"
          ]
        }
      ]
    },
    {
      "cell_type": "markdown",
      "source": [
        "Create a function to transform string into uppercase. This function will have one parameter input:\n",
        "\n",
        "x= string of word\n",
        "\n",
        "i.e\n",
        "x=\"I love food\" => x=\"I LOVE FOOD\"\n",
        "\n",
        "(Points 15)\n"
      ],
      "metadata": {
        "id": "PNfpl1JtyNv6"
      }
    },
    {
      "cell_type": "code",
      "source": [
        "def uppercase(name):\n",
        "  print(name.upper())\n",
        "\n",
        "x= 'string of word'\n",
        "uppercase(x)"
      ],
      "metadata": {
        "id": "nKduN2KOyN4T",
        "colab": {
          "base_uri": "https://localhost:8080/"
        },
        "outputId": "be5a0084-b867-48ae-bd3d-40a276cab46c"
      },
      "execution_count": 35,
      "outputs": [
        {
          "output_type": "stream",
          "name": "stdout",
          "text": [
            "STRING OF WORD\n"
          ]
        }
      ]
    },
    {
      "cell_type": "markdown",
      "source": [
        "Create a function called \"calculate\". This function will have three parameter input :\n",
        "\n",
        "1. a= a number input\n",
        "2. b= a number input\n",
        "3. method = \"+\" , \"-\" , \"*\" , \"/\"\n",
        "\n",
        "The function will return the value based on the method chosen. \n",
        "i.e \n",
        "if \"*\" is in input parameter then the function will return a+b (Points 20)"
      ],
      "metadata": {
        "id": "J5xXUInBvax6"
      }
    },
    {
      "cell_type": "code",
      "source": [
        "def calculate(a,b,method):\n",
        "  if (method == '+') :\n",
        "    print(a+b)\n",
        "  elif (method == '-') :\n",
        "    print(a-b)\n",
        "  elif (method == '*') :\n",
        "    print(a*b)\n",
        "  elif (method == '/') :\n",
        "    print(a/b)\n",
        "\n",
        "calculate(1,2,'+')"
      ],
      "metadata": {
        "id": "8b8Fp1MvvkgR",
        "colab": {
          "base_uri": "https://localhost:8080/"
        },
        "outputId": "8a0f984b-e33b-4965-f71c-49929c3a53ff"
      },
      "execution_count": 37,
      "outputs": [
        {
          "output_type": "stream",
          "name": "stdout",
          "text": [
            "3\n"
          ]
        }
      ]
    }
  ]
}